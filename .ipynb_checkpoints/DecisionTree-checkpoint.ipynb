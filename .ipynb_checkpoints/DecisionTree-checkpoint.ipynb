{
 "cells": [
  {
   "cell_type": "code",
   "execution_count": 5,
   "metadata": {},
   "outputs": [],
   "source": [
    "import pandas as pd\n",
    "import numpy as np\n",
    "from sklearn.model_selection import train_test_split, KFold\n",
    "from sklearn.metrics import accuracy_score\n",
    "from sklearn.metrics import precision_score\n",
    "from sklearn.metrics import recall_score\n",
    "from sklearn.metrics import f1_score\n",
    "from sklearn.metrics import roc_auc_score\n",
    "from sklearn import tree, metrics\n",
    "from sklearn.preprocessing import Imputer\n",
    "import matplotlib.pyplot as plt\n",
    "import random"
   ]
  },
  {
   "cell_type": "markdown",
   "metadata": {},
   "source": [
    "## Reading the data"
   ]
  },
  {
   "cell_type": "markdown",
   "metadata": {},
   "source": [
    "## Cleaning the data"
   ]
  },
  {
   "cell_type": "code",
   "execution_count": 2,
   "metadata": {},
   "outputs": [],
   "source": [
    "train_data = pd.read_csv('kaggle_train.csv')\n",
    "\n",
    "bot_data = pd.read_csv('bots_data.csv')\n",
    "nonbot_data = pd.read_csv('nonbots_data.csv')\n",
    "test_data = pd.read_csv('test.csv')"
   ]
  },
  {
   "cell_type": "code",
   "execution_count": 3,
   "metadata": {},
   "outputs": [],
   "source": [
    "train_attr = train_data[\n",
    "  ['followers_count', 'friends_count', 'listedcount', 'favourites_count', 'statuses_count', 'verified']]\n",
    "train_label = train_data[['bot']]"
   ]
  },
  {
   "cell_type": "code",
   "execution_count": 4,
   "metadata": {},
   "outputs": [],
   "source": [
    "bot_attr = bot_data[\n",
    "  ['followers_count', 'friends_count', 'listedcount', 'favourites_count', 'statuses_count', 'verified']]\n",
    "bot_label = bot_data[['bot']]\n",
    "\n",
    "nonbot_attr = nonbot_data[\n",
    "  ['followers_count', 'friends_count', 'listedcount', 'favourites_count', 'statuses_count', 'verified']]\n",
    "nonbot_label = nonbot_data[['bot']]\n",
    "\n",
    "test_attr = test_data[\n",
    "  ['followers_count', 'friends_count', 'listed_count', 'favourites_count', 'statuses_count', 'verified']]\n",
    "test_label = test_data[['bot']]"
   ]
  },
  {
   "cell_type": "markdown",
   "metadata": {},
   "source": [
    "## Training the classifier"
   ]
  },
  {
   "cell_type": "code",
   "execution_count": 5,
   "metadata": {
    "scrolled": true
   },
   "outputs": [],
   "source": [
    "clf = tree.DecisionTreeClassifier()\n",
    "\n",
    "X = train_attr.as_matrix()\n",
    "Y = train_label.as_matrix()\n",
    "clf = clf.fit(X, Y)"
   ]
  },
  {
   "cell_type": "markdown",
   "metadata": {},
   "source": [
    "## Testing on test data"
   ]
  },
  {
   "cell_type": "code",
   "execution_count": 6,
   "metadata": {},
   "outputs": [],
   "source": [
    "actual = np.array(test_label)\n",
    "predicted = clf.predict(test_attr)\n",
    "pred = np.array(predicted)"
   ]
  },
  {
   "cell_type": "code",
   "execution_count": 7,
   "metadata": {},
   "outputs": [
    {
     "name": "stdout",
     "output_type": "stream",
     "text": [
      "Accuracy is 99.0000%\n",
      "Precision is 100.0000%\n",
      "Recall is 98.0000%\n",
      "F1 Score is 0.9899\n",
      "Area Under Curve is 0.9900\n"
     ]
    }
   ],
   "source": [
    "accuracy = accuracy_score(actual, pred) * 100\n",
    "precision = precision_score(actual, pred) * 100\n",
    "recall = recall_score(actual, pred) * 100\n",
    "f1 = f1_score(actual, pred)\n",
    "auc = roc_auc_score(actual, pred)\n",
    "print 'Accuracy is {:.4f}%\\n\\\n",
    "Precision is {:.4f}%\\n\\\n",
    "Recall is {:.4f}%\\n\\\n",
    "F1 Score is {:.4f}\\n\\\n",
    "Area Under Curve is {:.4f}'.format(accuracy, precision, recall, f1, auc)"
   ]
  },
  {
   "cell_type": "code",
   "execution_count": 15,
   "metadata": {},
   "outputs": [
    {
     "data": {
      "image/png": "[encoded data removed]",
      "text/plain": [
       "<matplotlib.figure.Figure at 0x117a00a10>"
      ]
     },
     "metadata": {},
     "output_type": "display_data"
    }
   ],
   "source": [
    "fpr, tpr, thresholds = metrics.roc_curve(actual, pred)\n",
    "auc = metrics.auc(fpr, tpr)\n",
    "plt.title('Receiver Operating Characteristic')\n",
    "plt.plot(fpr, tpr, 'b',\n",
    "label='AUC = %0.2f'% auc)\n",
    "plt.legend(loc='lower right')\n",
    "plt.plot([0,1],[0,1],'r--')\n",
    "plt.xlim([-0.1,1.2])\n",
    "plt.ylim([-0.1,1.2])\n",
    "plt.ylabel('True Positive Rate')\n",
    "plt.xlabel('False Positive Rate')\n",
    "plt.show()"
   ]
  },
  {
   "cell_type": "markdown",
   "metadata": {},
   "source": [
    "## Testing on bot data"
   ]
  },
  {
   "cell_type": "code",
   "execution_count": 16,
   "metadata": {
    "collapsed": true
   },
   "outputs": [],
   "source": [
    "actual = np.array(bot_label)\n",
    "predicted = clf.predict(bot_attr)\n",
    "pred = np.array(predicted)"
   ]
  },
  {
   "cell_type": "code",
   "execution_count": 17,
   "metadata": {},
   "outputs": [
    {
     "name": "stdout",
     "output_type": "stream",
     "text": [
      "Accuracy is 99.7159%\n",
      "Precision is 100.0000%\n",
      "Recall is 99.7159%\n",
      "F1 Score is 0.9986\n"
     ]
    }
   ],
   "source": [
    "accuracy = accuracy_score(actual, pred) * 100\n",
    "precision = precision_score(actual, pred) * 100\n",
    "recall = recall_score(actual, pred) * 100\n",
    "f1 = f1_score(actual, pred)\n",
    "print 'Accuracy is {:.4f}%\\n\\\n",
    "Precision is {:.4f}%\\n\\\n",
    "Recall is {:.4f}%\\n\\\n",
    "F1 Score is {:.4f}'.format(accuracy, precision, recall, f1)"
   ]
  },
  {
   "cell_type": "markdown",
   "metadata": {},
   "source": [
    "## Testing on non-bot data"
   ]
  },
  {
   "cell_type": "code",
   "execution_count": 18,
   "metadata": {
    "collapsed": true
   },
   "outputs": [],
   "source": [
    "actual = np.array(nonbot_label)\n",
    "predicted = clf.predict(nonbot_attr)\n",
    "pred = np.array(predicted)"
   ]
  },
  {
   "cell_type": "code",
   "execution_count": 19,
   "metadata": {
    "scrolled": false
   },
   "outputs": [
    {
     "name": "stdout",
     "output_type": "stream",
     "text": [
      "Accuracy is 100.0000%\n",
      "Precision is 0.0000%\n",
      "Recall is 0.0000%\n",
      "F1 Score is 0.0000\n"
     ]
    }
   ],
   "source": [
    "accuracy = accuracy_score(actual, pred) * 100\n",
    "precision = precision_score(actual, pred) * 100\n",
    "recall = recall_score(actual, pred) * 100\n",
    "f1 = f1_score(actual, pred)\n",
    "print 'Accuracy is {:.4f}%\\n\\\n",
    "Precision is {:.4f}%\\n\\\n",
    "Recall is {:.4f}%\\n\\\n",
    "F1 Score is {:.4f}'.format(accuracy, precision, recall, f1)"
   ]
  },
  {
   "cell_type": "markdown",
   "metadata": {},
   "source": [
    "## Cross-validation on training set"
   ]
  },
  {
   "cell_type": "markdown",
   "metadata": {},
   "source": [
    "## Train-Test split"
   ]
  },
  {
   "cell_type": "code",
   "execution_count": 20,
   "metadata": {},
   "outputs": [
    {
     "name": "stdout",
     "output_type": "stream",
     "text": [
      "Accuracy is 84.2717%\n",
      "Precision is 84.1328%\n",
      "Recall is 83.5165%\n",
      "F1 Score is 0.8382\n",
      "Area Under Curve is 0.8425\n"
     ]
    }
   ],
   "source": [
    "train_X, test_X, train_Y, test_Y = train_test_split(train_attr, train_label, test_size=0.4, random_state=0)\n",
    "\n",
    "clf = tree.DecisionTreeClassifier()\n",
    "\n",
    "X = train_X.as_matrix()\n",
    "Y = train_Y.as_matrix()\n",
    "clf = clf.fit(X, Y)\n",
    "\n",
    "actual = np.array(test_Y)\n",
    "predicted = clf.predict(test_X)\n",
    "pred = np.array(predicted)\n",
    "\n",
    "accuracy = accuracy_score(actual, pred) * 100\n",
    "precision = precision_score(actual, pred) * 100\n",
    "recall = recall_score(actual, pred) * 100\n",
    "f1 = f1_score(actual, pred)\n",
    "auc = roc_auc_score(actual, pred)\n",
    "print 'Accuracy is {:.4f}%\\n\\\n",
    "Precision is {:.4f}%\\n\\\n",
    "Recall is {:.4f}%\\n\\\n",
    "F1 Score is {:.4f}\\n\\\n",
    "Area Under Curve is {:.4f}'.format(accuracy, precision, recall, f1, auc)"
   ]
  },
  {
   "cell_type": "code",
   "execution_count": 75,
   "metadata": {},
   "outputs": [
    {
     "data": {
      "image/png": "[encoded data removed]",
      "text/plain": [
       "<matplotlib.figure.Figure at 0x111e59790>"
      ]
     },
     "metadata": {},
     "output_type": "display_data"
    }
   ],
   "source": [
    "fpr, tpr, thresholds = metrics.roc_curve(actual, pred)\n",
    "auc = metrics.auc(fpr, tpr)\n",
    "plt.title('Receiver Operating Characteristic')\n",
    "plt.plot(fpr, tpr, 'b',\n",
    "label='AUC = %0.2f'% auc)\n",
    "plt.legend(loc='lower right')\n",
    "plt.plot([0,1],[0,1],'r--')\n",
    "plt.xlim([-0.1,1.2])\n",
    "plt.ylim([-0.1,1.2])\n",
    "plt.ylabel('True Positive Rate')\n",
    "plt.xlabel('False Positive Rate')\n",
    "plt.show()"
   ]
  },
  {
   "cell_type": "markdown",
   "metadata": {},
   "source": [
    "## K-Folds"
   ]
  },
  {
   "cell_type": "code",
   "execution_count": 21,
   "metadata": {},
   "outputs": [
    {
     "name": "stdout",
     "output_type": "stream",
     "text": [
      "For split 1\n",
      "    Accuracy is 77.7143%\n",
      "    Precision is 100.0000%\n",
      "    Recall is 77.7143%\n",
      "\n",
      "For split 2\n",
      "    Accuracy is 78.6838%\n",
      "    Precision is 98.1633%\n",
      "    Recall is 77.4557%\n",
      "\n",
      "For split 3\n",
      "    Accuracy is 78.6838%\n",
      "    Precision is 0.0000%\n",
      "    Recall is 0.0000%\n",
      "\n",
      "For split 4\n",
      "    Accuracy is 79.5422%\n",
      "    Precision is 0.0000%\n",
      "    Recall is 0.0000%\n",
      "\n"
     ]
    }
   ],
   "source": [
    "kf = KFold(n_splits=4)\n",
    "\n",
    "X = train_attr.as_matrix()\n",
    "Y = train_label.as_matrix()\n",
    "\n",
    "i = 0\n",
    "for train_indices, test_indices in kf.split(X):\n",
    "    i += 1\n",
    "    clf = tree.DecisionTreeClassifier()\n",
    "    train_X = X[train_indices, :]\n",
    "    train_Y = Y[train_indices]\n",
    "    test_X = X[test_indices, :]\n",
    "    test_Y = Y[test_indices]\n",
    "    clf = clf.fit(train_X, train_Y)\n",
    "    pred = clf.predict(test_X)\n",
    "    \n",
    "    accuracy = accuracy_score(test_Y, pred) * 100\n",
    "    precision = precision_score(test_Y, pred) * 100\n",
    "    recall = recall_score(test_Y, pred) * 100\n",
    "\n",
    "    print 'For split {}'.format(i)\n",
    "    print '    Accuracy is {:.4f}%\\n\\\n",
    "    Precision is {:.4f}%\\n\\\n",
    "    Recall is {:.4f}%\\n'.format(accuracy, precision, recall)"
   ]
  },
  {
   "cell_type": "markdown",
   "metadata": {},
   "source": [
    "## Testing the Kaggle test data"
   ]
  },
  {
   "cell_type": "code",
   "execution_count": 17,
   "metadata": {},
   "outputs": [],
   "source": [
    "clf = tree.DecisionTreeClassifier()\n",
    "\n",
    "X = train_attr.as_matrix()\n",
    "Y = train_label.as_matrix()\n",
    "clf = clf.fit(X, Y)"
   ]
  },
  {
   "cell_type": "code",
   "execution_count": 130,
   "metadata": {},
   "outputs": [
    {
     "name": "stderr",
     "output_type": "stream",
     "text": [
      "/Users/Rohan/Downloads/anaconda/lib/python2.7/site-packages/ipykernel/__main__.py:4: SettingWithCopyWarning: \n",
      "A value is trying to be set on a copy of a slice from a DataFrame\n",
      "\n",
      "See the caveats in the documentation: http://pandas.pydata.org/pandas-docs/stable/indexing.html#indexing-view-versus-copy\n",
      "/Users/Rohan/Downloads/anaconda/lib/python2.7/site-packages/ipykernel/__main__.py:5: SettingWithCopyWarning: \n",
      "A value is trying to be set on a copy of a slice from a DataFrame.\n",
      "Try using .loc[row_indexer,col_indexer] = value instead\n",
      "\n",
      "See the caveats in the documentation: http://pandas.pydata.org/pandas-docs/stable/indexing.html#indexing-view-versus-copy\n",
      "/Users/Rohan/Downloads/anaconda/lib/python2.7/site-packages/ipykernel/__main__.py:6: SettingWithCopyWarning: \n",
      "A value is trying to be set on a copy of a slice from a DataFrame.\n",
      "Try using .loc[row_indexer,col_indexer] = value instead\n",
      "\n",
      "See the caveats in the documentation: http://pandas.pydata.org/pandas-docs/stable/indexing.html#indexing-view-versus-copy\n",
      "/Users/Rohan/Downloads/anaconda/lib/python2.7/site-packages/ipykernel/__main__.py:7: SettingWithCopyWarning: \n",
      "A value is trying to be set on a copy of a slice from a DataFrame.\n",
      "Try using .loc[row_indexer,col_indexer] = value instead\n",
      "\n",
      "See the caveats in the documentation: http://pandas.pydata.org/pandas-docs/stable/indexing.html#indexing-view-versus-copy\n",
      "/Users/Rohan/Downloads/anaconda/lib/python2.7/site-packages/ipykernel/__main__.py:8: SettingWithCopyWarning: \n",
      "A value is trying to be set on a copy of a slice from a DataFrame.\n",
      "Try using .loc[row_indexer,col_indexer] = value instead\n",
      "\n",
      "See the caveats in the documentation: http://pandas.pydata.org/pandas-docs/stable/indexing.html#indexing-view-versus-copy\n",
      "/Users/Rohan/Downloads/anaconda/lib/python2.7/site-packages/ipykernel/__main__.py:9: SettingWithCopyWarning: \n",
      "A value is trying to be set on a copy of a slice from a DataFrame.\n",
      "Try using .loc[row_indexer,col_indexer] = value instead\n",
      "\n",
      "See the caveats in the documentation: http://pandas.pydata.org/pandas-docs/stable/indexing.html#indexing-view-versus-copy\n",
      "/Users/Rohan/Downloads/anaconda/lib/python2.7/site-packages/ipykernel/__main__.py:10: SettingWithCopyWarning: \n",
      "A value is trying to be set on a copy of a slice from a DataFrame.\n",
      "Try using .loc[row_indexer,col_indexer] = value instead\n",
      "\n",
      "See the caveats in the documentation: http://pandas.pydata.org/pandas-docs/stable/indexing.html#indexing-view-versus-copy\n"
     ]
    }
   ],
   "source": [
    "test_data = pd.read_csv('kaggle_test1.csv')\n",
    "test_attr = test_data[\n",
    "  ['followers_count', 'friends_count', 'listed_count', 'favorites_count', 'statuses_count', 'verified']]\n",
    "test_attr.replace('None', np.NaN, inplace=True)\n",
    "test_attr['followers_count'] = test_attr['followers_count'].astype(np.float64)\n",
    "test_attr['friends_count'] = test_attr['friends_count'].astype(np.float64)\n",
    "test_attr['listed_count'] = test_attr['listed_count'].astype(np.float64)\n",
    "test_attr['favorites_count'] = test_attr['favorites_count'].astype(np.float64)\n",
    "test_attr['statuses_count'] = test_attr['statuses_count'].astype(np.float64)\n",
    "test_attr['verified'] = np.where(test_attr['verified'] == 'TRUE', True, False)\n",
    "\n",
    "imp = Imputer(missing_values='NaN', strategy='mean', axis=0)\n",
    "test_attr = imp.fit_transform(test_attr)\n",
    "\n",
    "pred = clf.predict(test_attr)\n",
    "np.savetxt(\"output.csv\", pred, fmt=\"%i\", header=\"bot\", delimiter=\",\")"
   ]
  },
  {
   "cell_type": "markdown",
   "metadata": {
    "collapsed": true
   },
   "source": [
    "## Improving the model"
   ]
  },
  {
   "cell_type": "code",
   "execution_count": 76,
   "metadata": {
    "collapsed": true
   },
   "outputs": [],
   "source": [
    "train_data = pd.read_csv('kaggle_train.csv')\n",
    "train_label = train_data[['bot']]\n",
    "test_data = pd.read_csv('test.csv')\n",
    "test_label = test_data[['bot']]"
   ]
  },
  {
   "cell_type": "code",
   "execution_count": 98,
   "metadata": {},
   "outputs": [],
   "source": [
    "train_X, test_X, train_Y, test_Y = train_test_split(train_data, train_label, test_size=0.4, random_state=0)\n",
    "\n",
    "X = train_X[['followers_count', 'friends_count', 'listedcount', 'favourites_count', 'statuses_count', 'verified']].as_matrix()\n",
    "Y = train_Y.as_matrix()\n",
    "clf = tree.DecisionTreeClassifier()\n",
    "\n",
    "clf = clf.fit(X, Y)\n",
    "\n",
    "Z = test_X[['followers_count', 'friends_count', 'listedcount', 'favourites_count', 'statuses_count', 'verified']].as_matrix()\n",
    "actual = np.array(test_Y)\n",
    "predicted = clf.predict(Z)\n",
    "pred = np.array(predicted)"
   ]
  },
  {
   "cell_type": "code",
   "execution_count": 100,
   "metadata": {},
   "outputs": [
    {
     "data": {
      "text/plain": [
       "array([0, 1, 1, ..., 1, 0, 0])"
      ]
     },
     "execution_count": 100,
     "metadata": {},
     "output_type": "execute_result"
    }
   ],
   "source": [
    "sc = test_X['screen_name'].as_matrix()\n",
    "i = 0\n",
    "for name in sc:\n",
    "    if 'bot' in name or 'Bot' in name or 'bOt' in name or 'boT' in name or 'BOT' in name or 'BOt' in name or 'BoT' in name or 'bOT' in name:\n",
    "        pred[i] = 1\n",
    "    i += 1\n",
    "\n",
    "pred"
   ]
  },
  {
   "cell_type": "code",
   "execution_count": null,
   "metadata": {
    "collapsed": true
   },
   "outputs": [],
   "source": []
  }
 ],
 "metadata": {
  "kernelspec": {
   "display_name": "Python 3",
   "language": "python",
   "name": "python3"
  },
  "language_info": {
   "codemirror_mode": {
    "name": "ipython",
    "version": 3
   },
   "file_extension": ".py",
   "mimetype": "text/x-python",
   "name": "python",
   "nbconvert_exporter": "python",
   "pygments_lexer": "ipython3",
   "version": "3.6.4"
  }
 },
 "nbformat": 4,
 "nbformat_minor": 2
}
